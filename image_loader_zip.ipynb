{
 "cells": [
  {
   "cell_type": "markdown",
   "metadata": {},
   "source": [
    "# Libraries"
   ]
  },
  {
   "cell_type": "code",
   "execution_count": 1,
   "metadata": {},
   "outputs": [],
   "source": [
    "import cv2\n",
    "# import io\n",
    "import numpy as np\n",
    "# import matplotlib.pyplot as plt\n",
    "# import os\n",
    "from PIL import Image\n",
    "from tqdm import tqdm\n",
    "from zipfile import ZipFile"
   ]
  },
  {
   "cell_type": "markdown",
   "metadata": {},
   "source": [
    "# Constants"
   ]
  },
  {
   "cell_type": "code",
   "execution_count": 2,
   "metadata": {},
   "outputs": [],
   "source": [
    "FILENAME = r'C:/Users/leohe/Documents/ITC/HIVE/Challenge/data/asl_alphabet_train.zip'\n",
    "\n",
    "LABEL = {'A': 0, 'B': 1, 'C': 2, 'D': 3, 'E': 4, 'F': 5, 'G': 6, 'H': 7, 'I': 8, 'J': 9,\n",
    "         'K':10, 'L':11, 'M':12, 'N':13, 'O':14, 'P':15, 'Q':16, 'R':17, 'S':18, 'T':19,\n",
    "         'U':20, 'V':21, 'W':22, 'X':23, 'Y':24, 'Z':25, \n",
    "         'del':26, 'nothing':27, 'space':28}\n",
    "\n",
    "N = 87000 # total number of images in the training set\n",
    "IMG_SIZE = 200 # original image size, to be resized\n",
    "IMG_CHANNEL = 3 # rgb color scheme"
   ]
  },
  {
   "cell_type": "markdown",
   "metadata": {},
   "source": [
    "# Functions"
   ]
  },
  {
   "cell_type": "code",
   "execution_count": 3,
   "metadata": {},
   "outputs": [],
   "source": [
    "def idos_filter(img, *options):\n",
    "    return img"
   ]
  },
  {
   "cell_type": "markdown",
   "metadata": {},
   "source": [
    "- loading the images into a np.array from inside the zip file\n",
    "- loading and translating the labels"
   ]
  },
  {
   "cell_type": "code",
   "execution_count": 4,
   "metadata": {},
   "outputs": [
    {
     "name": "stderr",
     "output_type": "stream",
     "text": [
      "\r",
      "  0%|                                                                                                                                        | 0/87030 [00:00<?, ?it/s]"
     ]
    },
    {
     "name": "stdout",
     "output_type": "stream",
     "text": [
      "Image space130.jpg   , from label 28, was read, filtered, formatted and stacked.     1/87000\n",
      "Image space13.jpg    , from label 28, was read, filtered, formatted and stacked.     2/87000\n",
      "Image space1298.jpg  , from label 28, was read, filtered, formatted and stacked.     3/87000\n"
     ]
    },
    {
     "name": "stderr",
     "output_type": "stream",
     "text": [
      "\n"
     ]
    }
   ],
   "source": [
    "count = 0\n",
    "stacked  = np.zeros((N, IMG_SIZE, IMG_SIZE, IMG_CHANNEL), dtype='uint8')\n",
    "label = np.zeros((N, 1), dtype='uint8')\n",
    "with ZipFile(FILENAME) as archive:\n",
    "    for entry in tqdm(archive.infolist()):\n",
    "        name = str(entry).split(\"'\")[1].replace('/', ' ').split()\n",
    "        if len(name) == 3:\n",
    "            with archive.open(entry) as file:\n",
    "                img = idos_filter(np.array(Image.open(file)))\n",
    "                stacked[count] = img\n",
    "                label[count] = LABEL[name[1]]\n",
    "                count += 1\n",
    "                print(\"Image {:15s}, from label {:2d}, was read, \"\n",
    "                      \"filtered, formatted and stacked. {:5d}/87000\"\n",
    "                      .format(name[-1], LABEL[name[1]], count))\n",
    "            if count >= 3:\n",
    "                break"
   ]
  }
 ],
 "metadata": {
  "kernelspec": {
   "display_name": "Python 3",
   "language": "python",
   "name": "python3"
  },
  "language_info": {
   "codemirror_mode": {
    "name": "ipython",
    "version": 3
   },
   "file_extension": ".py",
   "mimetype": "text/x-python",
   "name": "python",
   "nbconvert_exporter": "python",
   "pygments_lexer": "ipython3",
   "version": "3.6.5"
  }
 },
 "nbformat": 4,
 "nbformat_minor": 2
}
