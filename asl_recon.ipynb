{
 "cells": [
  {
   "cell_type": "markdown",
   "metadata": {},
   "source": [
    "# Segmentation test"
   ]
  },
  {
   "cell_type": "code",
   "execution_count": 1,
   "metadata": {},
   "outputs": [
    {
     "name": "stderr",
     "output_type": "stream",
     "text": [
      "C:\\Users\\leohe\\Anaconda3\\lib\\site-packages\\h5py\\__init__.py:36: FutureWarning: Conversion of the second argument of issubdtype from `float` to `np.floating` is deprecated. In future, it will be treated as `np.float64 == np.dtype(float).type`.\n",
      "  from ._conv import register_converters as _register_converters\n"
     ]
    }
   ],
   "source": [
    "import cv2\n",
    "import numpy as np\n",
    "import time\n",
    "from tensorflow.python.keras import Model\n",
    "from tensorflow.python.keras.models import model_from_json"
   ]
  },
  {
   "cell_type": "code",
   "execution_count": 2,
   "metadata": {},
   "outputs": [
    {
     "name": "stdout",
     "output_type": "stream",
     "text": [
      "Loaded model from disk\n"
     ]
    }
   ],
   "source": [
    "json_file = open('model.json', 'r')\n",
    "loaded_model_json = json_file.read()\n",
    "json_file.close()\n",
    "loaded_model = model_from_json(loaded_model_json)\n",
    "# load weights into new model\n",
    "loaded_model.load_weights(\"model.h5\")\n",
    "print(\"Loaded model from disk\")"
   ]
  },
  {
   "cell_type": "code",
   "execution_count": 3,
   "metadata": {},
   "outputs": [],
   "source": [
    "LABEL = {'A': 0, 'B': 1, 'C': 2, 'D': 3, 'E': 4, 'F': 5, 'G': 6, 'H': 7, 'I': 8, 'J': 9,\n",
    "         'K':10, 'L':11, 'M':12, 'N':13, 'O':14, 'P':15, 'Q':16, 'R':17, 'S':18, 'T':19,\n",
    "         'U':20, 'V':21, 'W':22, 'X':23, 'Y':24, 'Z':25, \n",
    "         'del':26, 'nothing':27, 'space':28}"
   ]
  },
  {
   "cell_type": "code",
   "execution_count": 1,
   "metadata": {},
   "outputs": [],
   "source": [
    "def idos_filter(img, *options):\n",
    "    return img"
   ]
  },
  {
   "cell_type": "code",
   "execution_count": 5,
   "metadata": {},
   "outputs": [],
   "source": [
    "#Open Camera object\n",
    "cap = cv2.VideoCapture(0)\n",
    "\n",
    "# Decrease frame size\n",
    "# Note this may not work, only depends on camera support\n",
    "# cap.set(cv2.CAP_PROP_FRAME_WIDTH, 200)\n",
    "# cap.set(cv2.CAP_PROP_FRAME_HEIGHT, 200)\n",
    "cap.set(cv2.CAP_PROP_FPS, 5)\n",
    "\n",
    "# # Creating a window for HSV track bars\n",
    "# cv2.namedWindow('HSV_TrackBar')\n",
    "\n",
    "while(True):\n",
    "    start_time = time.time()\n",
    "    \n",
    "    #Capture frame\n",
    "    frame = cap.read()[1]\n",
    "    pred = np.empty((1, 200, 200, 3))\n",
    "    pred[0] = idos_filter(frame)\n",
    "    probabilities = loaded_model.predict(pred / np.max(pred))\n",
    "    predictions = np.argmax(probabilities, axis=-1)\n",
    "    letter = list(LABEL.keys())[predictions[0]]\n",
    "    msg_scr = \"execution time per frame: {:.2f} [ms]\\tLetter: {}\"\n",
    "    .format((time.time()-start_time) * 1000, letter)\n",
    "    cv2.putText(frame, msg_scr, (0, 25), cv2.FONT_HERSHEY_SIMPLEX, 1, (0,0,255), 2)     \n",
    "    cv2.imshow('Live', frame)\n",
    "    \n",
    "    #close the output video by pressing 'q'\n",
    "    if cv2.waitKey(1) & 0xFF == ord('q'):\n",
    "        break\n",
    "        \n",
    "cap.release()\n",
    "cv2.destroyAllWindows()"
   ]
  },
  {
   "cell_type": "code",
   "execution_count": 6,
   "metadata": {},
   "outputs": [],
   "source": [
    "cap.release()\n",
    "cv2.destroyAllWindows()"
   ]
  },
  {
   "cell_type": "code",
   "execution_count": null,
   "metadata": {},
   "outputs": [],
   "source": []
  }
 ],
 "metadata": {
  "kernelspec": {
   "display_name": "Python 3",
   "language": "python",
   "name": "python3"
  },
  "language_info": {
   "codemirror_mode": {
    "name": "ipython",
    "version": 3
   },
   "file_extension": ".py",
   "mimetype": "text/x-python",
   "name": "python",
   "nbconvert_exporter": "python",
   "pygments_lexer": "ipython3",
   "version": "3.6.5"
  },
  "varInspector": {
   "cols": {
    "lenName": 16,
    "lenType": 16,
    "lenVar": 40
   },
   "kernels_config": {
    "python": {
     "delete_cmd_postfix": "",
     "delete_cmd_prefix": "del ",
     "library": "var_list.py",
     "varRefreshCmd": "print(var_dic_list())"
    },
    "r": {
     "delete_cmd_postfix": ") ",
     "delete_cmd_prefix": "rm(",
     "library": "var_list.r",
     "varRefreshCmd": "cat(var_dic_list()) "
    }
   },
   "types_to_exclude": [
    "module",
    "function",
    "builtin_function_or_method",
    "instance",
    "_Feature"
   ],
   "window_display": false
  }
 },
 "nbformat": 4,
 "nbformat_minor": 2
}
