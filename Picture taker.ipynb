{
 "cells": [
  {
   "cell_type": "markdown",
   "metadata": {},
   "source": [
    "# Image capture program - records webcam frames as pictures"
   ]
  },
  {
   "cell_type": "code",
   "execution_count": null,
   "metadata": {},
   "outputs": [],
   "source": []
  },
  {
   "cell_type": "code",
   "execution_count": 1,
   "metadata": {},
   "outputs": [],
   "source": [
    "import cv2\n",
    "import time\n",
    "import os"
   ]
  },
  {
   "cell_type": "code",
   "execution_count": 2,
   "metadata": {},
   "outputs": [
    {
     "name": "stdout",
     "output_type": "stream",
     "text": [
      "time to take all pictures: 25.422125101089478\n",
      "time per picture: 0.12711223006248473\n"
     ]
    },
    {
     "data": {
      "text/plain": [
       "-1"
      ]
     },
     "execution_count": 2,
     "metadata": {},
     "output_type": "execute_result"
    }
   ],
   "source": [
    "\"\"\" \n",
    "0-200: Ben\n",
    "201-400: Leo\n",
    "401-600: Ido\n",
    "601-800: Emma\n",
    "801-1000: ---\n",
    "\"\"\"\n",
    "STARTING_NUMBER = 400 + 1\n",
    "\n",
    "\n",
    "cap = cv2.VideoCapture(0)\n",
    "frame = cap.read()[1]\n",
    "\n",
    "CROP_SIZE = 200\n",
    "CAPTURE_SIZE = 400\n",
    "NUM_PICTURES_TO_TAKE = 200\n",
    "\n",
    "height, width, channels = frame.shape\n",
    "x_center = int(width/2)\n",
    "y_center = int(height/2)\n",
    "x_start = int(x_center - CAPTURE_SIZE*0.5)\n",
    "x_end = int(x_center + CAPTURE_SIZE*0.5) \n",
    "y_start = int(y_center - CAPTURE_SIZE*0.5) \n",
    "y_end = int(y_center + CAPTURE_SIZE*0.5) \n",
    "\n",
    "font = cv2.FONT_HERSHEY_SIMPLEX\n",
    "\n",
    "# LETTER = 'images/alef/'\n",
    "# LETTER = 'images/bet/'\n",
    "# LETTER = 'images/gimel/'\n",
    "# LETTER = 'images/daled/'\n",
    "# LETTER = 'images/hey/'\n",
    "LETTER = 'images/vav/'\n",
    "# LETTER = 'images/zayin/'\n",
    "# LETTER = 'images/het/'\n",
    "# LETTER = 'images/tet/'\n",
    "# LETTER = 'images/yud/'\n",
    "# LETTER = 'images/haf/'\n",
    "# LETTER = 'images/lamed/'\n",
    "# LETTER = 'images/mem/'\n",
    "# LETTER = 'images/nun/'\n",
    "# LETTER = 'images/samech/'\n",
    "# LETTER = 'images/ayin/'\n",
    "# LETTER = 'images/pey/'\n",
    "# LETTER = 'images/tzadik/'\n",
    "# LETTER = 'images/kuf/'\n",
    "# LETTER = 'images/reish/'\n",
    "# LETTER = 'images/shin/'\n",
    "# LETTER = 'images/taf/'\n",
    "# LETTER = 'images/space/'\n",
    "# LETTER = 'images/empty/'\n",
    "\n",
    "\n",
    "if os.path.isdir(LETTER) is False:\n",
    "    raise RuntimeError('FOLDER DOES NOT EXIST:', LETTER)\n",
    "\n",
    "while(True):\n",
    "    ret, frame = cap.read()\n",
    "    frame = cv2.flip(frame, 1)\n",
    "    cv2.rectangle(frame,(x_start,y_start),(x_end,y_end),(0,255,0),3)\n",
    "    cv2.putText(frame,'Press \"z\" to start recording',(x_start - 150, y_start - 30), font, 2, (255, 255, 255), 2) \n",
    "    cv2.imshow('frame', frame)\n",
    "    if cv2.waitKey(1) & 0xFF == ord('z'): \n",
    "        break\n",
    "        \n",
    "start = time.time()\n",
    "k = 1\n",
    "for i in range(STARTING_NUMBER, STARTING_NUMBER + NUM_PICTURES_TO_TAKE):\n",
    "    ret, frame = cap.read()\n",
    "    frame = cv2.flip(frame, 1)\n",
    "    # Make the rectangle a bit bigger so it doesn't get in the picture\n",
    "    cv2.rectangle(frame,(x_start-3,y_start-3),(x_end+3,y_end+3),(0,255,0),3)\n",
    "    cv2.putText(frame,'Saving picture number ' + str(k),(x_start - 150, y_start - 30), font, 2, (255, 255, 255), 2) \n",
    "    cv2.imshow('frame', frame)\n",
    "    cv2.waitKey(1)\n",
    "    \n",
    "    frame = cv2.flip(frame, 1)\n",
    "    crop = frame[y_start : y_end, x_start : x_end]\n",
    "    crop = cv2.resize(crop, (CROP_SIZE, CROP_SIZE))\n",
    "    \n",
    "    out = cv2.imwrite(LETTER + '{}.jpg'.format(i), crop)\n",
    "    k += 1\n",
    "print('time to take all pictures:', time.time() - start)\n",
    "print('time per picture:', (time.time() - start)/NUM_PICTURES_TO_TAKE)\n",
    "\n",
    "cap.release()\n",
    "cv2.destroyAllWindows()\n",
    "cv2.waitKey(1)"
   ]
  },
  {
   "cell_type": "code",
   "execution_count": null,
   "metadata": {},
   "outputs": [],
   "source": [
    "\n"
   ]
  },
  {
   "cell_type": "code",
   "execution_count": null,
   "metadata": {},
   "outputs": [],
   "source": []
  }
 ],
 "metadata": {
  "kernelspec": {
   "display_name": "Python 3",
   "language": "python",
   "name": "python3"
  },
  "language_info": {
   "codemirror_mode": {
    "name": "ipython",
    "version": 3
   },
   "file_extension": ".py",
   "mimetype": "text/x-python",
   "name": "python",
   "nbconvert_exporter": "python",
   "pygments_lexer": "ipython3",
   "version": "3.5.5"
  },
  "varInspector": {
   "cols": {
    "lenName": 16,
    "lenType": 16,
    "lenVar": 40
   },
   "kernels_config": {
    "python": {
     "delete_cmd_postfix": "",
     "delete_cmd_prefix": "del ",
     "library": "var_list.py",
     "varRefreshCmd": "print(var_dic_list())"
    },
    "r": {
     "delete_cmd_postfix": ") ",
     "delete_cmd_prefix": "rm(",
     "library": "var_list.r",
     "varRefreshCmd": "cat(var_dic_list()) "
    }
   },
   "types_to_exclude": [
    "module",
    "function",
    "builtin_function_or_method",
    "instance",
    "_Feature"
   ],
   "window_display": false
  }
 },
 "nbformat": 4,
 "nbformat_minor": 2
}
