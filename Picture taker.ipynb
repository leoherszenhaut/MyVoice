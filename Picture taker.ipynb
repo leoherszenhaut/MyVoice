{
 "cells": [
  {
   "cell_type": "markdown",
   "metadata": {},
   "source": [
    "# Image capture program - records webcam frames as pictures"
   ]
  },
  {
   "cell_type": "code",
   "execution_count": 1,
   "metadata": {},
   "outputs": [],
   "source": [
    "import cv2\n",
    "import time\n",
    "import os"
   ]
  },
  {
   "cell_type": "code",
   "execution_count": 4,
   "metadata": {},
   "outputs": [
    {
     "name": "stdout",
     "output_type": "stream",
     "text": [
      "time to take all pictures: 8.068313360214233\n",
      "time per picture: 0.04034655451774597\n",
      "time to take all pictures: 8.62231969833374\n",
      "time per picture: 0.0431115984916687\n",
      "time to take all pictures: 8.010114908218384\n",
      "time per picture: 0.040055575370788576\n",
      "time to take all pictures: 8.015244483947754\n",
      "time per picture: 0.040081151723861695\n",
      "time to take all pictures: 8.29258942604065\n",
      "time per picture: 0.04146794319152832\n",
      "time to take all pictures: 8.593783617019653\n",
      "time per picture: 0.042968918085098264\n",
      "time to take all pictures: 8.009424209594727\n",
      "time per picture: 0.040052114725112914\n",
      "time to take all pictures: 8.008683919906616\n",
      "time per picture: 0.04004840731620789\n",
      "time to take all pictures: 8.006483554840088\n",
      "time per picture: 0.040037473440170286\n",
      "time to take all pictures: 8.00752305984497\n",
      "time per picture: 0.0400424325466156\n",
      "time to take all pictures: 8.007242441177368\n",
      "time per picture: 0.040036212205886844\n",
      "time to take all pictures: 8.02084493637085\n",
      "time per picture: 0.04010422468185425\n",
      "time to take all pictures: 8.254698514938354\n",
      "time per picture: 0.041273492574691775\n",
      "time to take all pictures: 8.012976884841919\n",
      "time per picture: 0.040069698095321654\n",
      "time to take all pictures: 8.27750825881958\n",
      "time per picture: 0.04139253258705139\n",
      "time to take all pictures: 8.013287544250488\n",
      "time per picture: 0.04007143020629883\n",
      "time to take all pictures: 8.053262948989868\n",
      "time per picture: 0.04026631474494934\n",
      "time to take all pictures: 8.008880853652954\n",
      "time per picture: 0.040049384832382205\n",
      "time to take all pictures: 8.08859896659851\n",
      "time per picture: 0.04044299483299255\n",
      "time to take all pictures: 8.01326322555542\n",
      "time per picture: 0.04007130384445191\n",
      "time to take all pictures: 8.015068769454956\n",
      "time per picture: 0.04008033514022827\n",
      "time to take all pictures: 8.44570016860962\n",
      "time per picture: 0.0422285008430481\n",
      "time to take all pictures: 8.43681526184082\n",
      "time per picture: 0.0421840763092041\n",
      "time to take all pictures: 8.004193782806396\n",
      "time per picture: 0.04002096891403198\n"
     ]
    },
    {
     "data": {
      "text/plain": [
       "-1"
      ]
     },
     "execution_count": 4,
     "metadata": {},
     "output_type": "execute_result"
    }
   ],
   "source": [
    "\"\"\"\n",
    "0000-0200: Ben\n",
    "0201-0400: Leo\n",
    "0401-0600: Ido\n",
    "0601-0800: Effrat\n",
    "0801-1000: Emma\n",
    "1001-1200:\n",
    "1201-1400:\n",
    "1401-1600:\n",
    "1601-1800: Joshua\n",
    "1801-2000: Danni\n",
    "\"\"\"\n",
    "STARTING_NUMBER = 1400 + 1\n",
    "\n",
    "\n",
    "cap = cv2.VideoCapture(0)\n",
    "frame = cap.read()[1]\n",
    "\n",
    "CROP_SIZE = 200\n",
    "CAPTURE_SIZE = 300\n",
    "NUM_PICTURES_TO_TAKE = 200\n",
    "\n",
    "height, width, channels = frame.shape\n",
    "x_center = int(width/2)\n",
    "y_center = int(height/2)\n",
    "x_start = int(x_center - CAPTURE_SIZE*0.5)\n",
    "x_end = int(x_center + CAPTURE_SIZE*0.5) \n",
    "y_start = int(y_center - CAPTURE_SIZE*0.5) \n",
    "y_end = int(y_center + CAPTURE_SIZE*0.5) \n",
    "\n",
    "font = cv2.FONT_HERSHEY_SIMPLEX\n",
    "\n",
    "# LETTER = 'images/alef/'\n",
    "# LETTER = 'images/bet/'\n",
    "# LETTER = 'images/gimel/'\n",
    "# LETTER = 'images/daled/'\n",
    "# LETTER = 'images/hey/'\n",
    "# LETTER = 'images/vav/'\n",
    "# LETTER = 'images/zayin/'\n",
    "# LETTER = 'images/het/'\n",
    "# LETTER = 'images/tet/'\n",
    "# LETTER = 'images/yud/'\n",
    "# LETTER = 'images/haf/'\n",
    "# LETTER = 'images/lamed/'\n",
    "# LETTER = 'images/mem/'\n",
    "# LETTER = 'images/nun/'\n",
    "# LETTER = 'images/samech/'\n",
    "# LETTER = 'images/ayin/'\n",
    "# LETTER = 'images/pey/'\n",
    "# LETTER = 'images/tzadik/'\n",
    "# LETTER = 'images/kuf/'\n",
    "# LETTER = 'images/reish/'\n",
    "# LETTER = 'images/shin/'\n",
    "# LETTER = 'images/taf/'\n",
    "# LETTER = 'images/space/'\n",
    "# LETTER = 'images/empty/'\n",
    "\n",
    "letters = ['images/alef/', 'images/bet/', 'images/gimel/', 'images/daled/', 'images/hey/', 'images/vav/', \n",
    "           'images/zayin/', 'images/het/', 'images/tet/', 'images/yud/', 'images/haf/', 'images/lamed/', \n",
    "           'images/mem/', 'images/nun/', 'images/samech/', 'images/ayin/', 'images/pey/', 'images/tzadik/', \n",
    "           'images/kuf/', 'images/reish/', 'images/shin/', 'images/taf/', 'images/space/', 'images/empty/']\n",
    "\n",
    "for LETTER in letters:\n",
    "    if not os.path.isdir(LETTER):\n",
    "        os.mkdir(LETTER)\n",
    "    while(True):\n",
    "        ret, frame = cap.read()\n",
    "        frame = cv2.flip(frame, 1)\n",
    "        cv2.rectangle(frame,(x_start,y_start),(x_end,y_end),(0,255,0),3)\n",
    "        cv2.putText(frame,'\"z\" to start ' + LETTER[7:-1],(0, y_start - 30), font, 2, (255, 255, 255), 2) \n",
    "        cv2.imshow('frame', frame)\n",
    "        if cv2.waitKey(1) & 0xFF == ord('z'): \n",
    "            break\n",
    "            \n",
    "    if os.path.isdir(LETTER) is False:\n",
    "        raise RuntimeError('FOLDER DOES NOT EXIST:', LETTER)\n",
    "\n",
    "    start = time.time()\n",
    "    k = 1\n",
    "    for i in range(STARTING_NUMBER, STARTING_NUMBER + NUM_PICTURES_TO_TAKE):\n",
    "        ret, frame = cap.read()\n",
    "        frame = cv2.flip(frame, 1)\n",
    "        # Make the rectangle a bit bigger so it doesn't get in the picture\n",
    "        cv2.rectangle(frame,(x_start-3,y_start-3),(x_end+3,y_end+3),(0,255,0),3)\n",
    "        cv2.putText(frame,'Saving pic # ' + str(k),(x_start - 150, y_start - 30), font, 2, (255, 255, 255), 2) \n",
    "        cv2.imshow('frame', frame)\n",
    "        cv2.waitKey(1)\n",
    "\n",
    "        frame = cv2.flip(frame, 1)\n",
    "        crop = frame[y_start : y_end, x_start : x_end]\n",
    "        crop = cv2.resize(crop, (CROP_SIZE, CROP_SIZE))\n",
    "\n",
    "        out = cv2.imwrite(LETTER + '{}.jpg'.format(i), crop)\n",
    "        k += 1\n",
    "    print('time to take all pictures:', time.time() - start)\n",
    "    print('time per picture:', (time.time() - start)/NUM_PICTURES_TO_TAKE)\n",
    "\n",
    "cap.release()\n",
    "cv2.destroyAllWindows()\n",
    "cv2.waitKey(1)"
   ]
  },
  {
   "cell_type": "code",
   "execution_count": 3,
   "metadata": {},
   "outputs": [],
   "source": [
    "cap.release()\n",
    "cv2.destroyAllWindows()"
   ]
  },
  {
   "cell_type": "code",
   "execution_count": null,
   "metadata": {},
   "outputs": [],
   "source": []
  }
 ],
 "metadata": {
  "kernelspec": {
   "display_name": "Python 3",
   "language": "python",
   "name": "python3"
  },
  "language_info": {
   "codemirror_mode": {
    "name": "ipython",
    "version": 3
   },
   "file_extension": ".py",
   "mimetype": "text/x-python",
   "name": "python",
   "nbconvert_exporter": "python",
   "pygments_lexer": "ipython3",
   "version": "3.6.5"
  },
  "varInspector": {
   "cols": {
    "lenName": 16,
    "lenType": 16,
    "lenVar": 40
   },
   "kernels_config": {
    "python": {
     "delete_cmd_postfix": "",
     "delete_cmd_prefix": "del ",
     "library": "var_list.py",
     "varRefreshCmd": "print(var_dic_list())"
    },
    "r": {
     "delete_cmd_postfix": ") ",
     "delete_cmd_prefix": "rm(",
     "library": "var_list.r",
     "varRefreshCmd": "cat(var_dic_list()) "
    }
   },
   "types_to_exclude": [
    "module",
    "function",
    "builtin_function_or_method",
    "instance",
    "_Feature"
   ],
   "window_display": false
  }
 },
 "nbformat": 4,
 "nbformat_minor": 2
}
