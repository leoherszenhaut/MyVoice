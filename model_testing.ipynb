{
 "cells": [
  {
   "cell_type": "markdown",
   "metadata": {},
   "source": [
    "# Segmentation test"
   ]
  },
  {
   "cell_type": "code",
   "execution_count": 5,
   "metadata": {},
   "outputs": [],
   "source": [
    "import cv2\n",
    "import numpy as np\n",
    "import time\n",
    "from tensorflow.python.keras import Model\n",
    "from tensorflow.python.keras.models import model_from_json\n",
    "from sklearn.metrics import classification_report, confusion_matrix\n",
    "from tensorflow.python.keras.utils import to_categorical"
   ]
  },
  {
   "cell_type": "code",
   "execution_count": 2,
   "metadata": {},
   "outputs": [
    {
     "name": "stdout",
     "output_type": "stream",
     "text": [
      "Loaded model from disk\n"
     ]
    }
   ],
   "source": [
    "json_file = open('hebrew_model.json', 'r')\n",
    "loaded_model_json = json_file.read()\n",
    "json_file.close()\n",
    "loaded_model = model_from_json(loaded_model_json)\n",
    "# load weights into new model\n",
    "loaded_model.load_weights(\"hebrew_model.h5\")\n",
    "print(\"Loaded model from disk\")"
   ]
  },
  {
   "cell_type": "code",
   "execution_count": 4,
   "metadata": {},
   "outputs": [],
   "source": [
    "FILENAME = r'C:/Users/leohe/Documents/ITC/HIVE/Challenge/sign_language/hsl_alphabet_test.zip'\n",
    "\n",
    "\n",
    "# LABEL = {'A': 0, 'B': 1, 'C': 2, 'D': 3, 'E': 4, 'F': 5, 'G': 6, 'H': 7, 'I': 8, 'J': 9,\n",
    "#          'K':10, 'L':11, 'M':12, 'N':13, 'O':14, 'P':15, 'Q':16, 'R':17, 'S':18, 'T':19,\n",
    "#          'U':20, 'V':21, 'W':22, 'X':23, 'Y':24, 'Z':25, \n",
    "#          'del':26, 'nothing':27, 'space':28}\n",
    "\n",
    "LABEL = {'alef': 0, 'bet': 1, 'gimel': 2, 'daled': 3, \n",
    "         'hey': 4, 'vav': 5, 'zayin': 6, 'het': 7, 'tet': 8, \n",
    "         'yud': 9, 'haf': 10, 'lamed': 11, 'mem': 12, 'nun': 13, \n",
    "         'samech': 14, 'ayin': 15, 'pey': 16, 'tzadik': 17, \n",
    "         'kuf': 18, 'reish': 19, 'shin': 20, 'taf': 21, \n",
    "         'space': 22, 'empty': 23}\n",
    "\n",
    "\n",
    "SAMPLE_SIZE = 20\n",
    "N = 200*2*24 // SAMPLE_SIZE\n",
    "IMG_SIZE = 200 # original image size, to be resized\n",
    "IMG_CHANNEL = 3 # rgb color scheme"
   ]
  },
  {
   "cell_type": "code",
   "execution_count": null,
   "metadata": {},
   "outputs": [],
   "source": [
    "def idos_filter(img, *options):\n",
    "    return img"
   ]
  },
  {
   "cell_type": "code",
   "execution_count": null,
   "metadata": {},
   "outputs": [],
   "source": [
    "count = 0\n",
    "stacked  = np.zeros((N, IMG_SIZE, IMG_SIZE, IMG_CHANNEL), dtype='uint8')\n",
    "label = np.zeros((N, 1), dtype='uint8')\n",
    "with ZipFile(FILENAME) as archive:\n",
    "    for entry in tqdm(archive.infolist()):\n",
    "        name = str(entry).split(\"'\")[1].replace('/', ' ').split()\n",
    "        if len(name) == 3:\n",
    "            with archive.open(entry) as file:\n",
    "                if count % SAMPLE_SIZE != 0:\n",
    "                    count += 1\n",
    "                    continue\n",
    "                img = idos_filter(np.array(Image.open(file)))\n",
    "                stacked[count // SAMPLE_SIZE] = img\n",
    "                label[count // SAMPLE_SIZE] = LABEL[name[1]]\n",
    "                count += 1"
   ]
  },
  {
   "cell_type": "code",
   "execution_count": null,
   "metadata": {},
   "outputs": [],
   "source": [
    "loss, acc = loaded_model.evaluate(x=stacked, y=to_categorical(label, len(np.unique(label))))\n",
    "print(\"Loss {:2f}, Accuracy {:6.2f}%\".format(loss, 100 * acc))\n",
    "targets = np.argmax(to_categorical(label, len(np.unique(label))), axis=-1)\n",
    "probabilities = loaded_model.predict(x=stacked)\n",
    "predictions = np.argmax(probabilities, axis=-1)\n",
    "cm = confusion_matrix(y_true=targets, y_pred=predictions)\n",
    "print(cm)\n",
    "classes = np.unique(label)\n",
    "# plot_confusion_matrix(cm, classes=classes)\n",
    "report = classification_report(y_true=targets, y_pred=predictions, labels=classes)\n",
    "print(report)"
   ]
  }
 ],
 "metadata": {
  "kernelspec": {
   "display_name": "Python 3",
   "language": "python",
   "name": "python3"
  },
  "language_info": {
   "codemirror_mode": {
    "name": "ipython",
    "version": 3
   },
   "file_extension": ".py",
   "mimetype": "text/x-python",
   "name": "python",
   "nbconvert_exporter": "python",
   "pygments_lexer": "ipython3",
   "version": "3.6.5"
  },
  "varInspector": {
   "cols": {
    "lenName": 16,
    "lenType": 16,
    "lenVar": 40
   },
   "kernels_config": {
    "python": {
     "delete_cmd_postfix": "",
     "delete_cmd_prefix": "del ",
     "library": "var_list.py",
     "varRefreshCmd": "print(var_dic_list())"
    },
    "r": {
     "delete_cmd_postfix": ") ",
     "delete_cmd_prefix": "rm(",
     "library": "var_list.r",
     "varRefreshCmd": "cat(var_dic_list()) "
    }
   },
   "types_to_exclude": [
    "module",
    "function",
    "builtin_function_or_method",
    "instance",
    "_Feature"
   ],
   "window_display": false
  }
 },
 "nbformat": 4,
 "nbformat_minor": 2
}
